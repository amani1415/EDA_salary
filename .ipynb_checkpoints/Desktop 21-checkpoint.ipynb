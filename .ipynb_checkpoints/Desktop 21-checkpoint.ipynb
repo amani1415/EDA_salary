{
 "cells": [
  {
   "cell_type": "markdown",
   "id": "a2014acd",
   "metadata": {},
   "source": [
    "<h1 style=\"color:#FF0000;\">Yangon Region Government</h1>"
   ]
  },
  {
   "cell_type": "markdown",
   "id": "59c6b8f1",
   "metadata": {},
   "source": [
    "### Appendix\n",
    "- Click on the links:\n",
    "\n",
    ">1.   <a href=#intro>Intro</a>\n",
    ">2.   <a href=#imports>Impots</a>\n",
    ">3.   <a href=#load>Load Data</a>\n",
    ">4.   <a href=#Formating>Data Formating</a>\n",
    ">5.   <a href=#Valid>Valid Assumption(Optional If exist)</a>\n",
    ">6.   <a href=#EDA1>Exploratory Data Analysis(uin-variable)</a>\n",
    ">7.   <a href=#EDA2>Exploratory Data Analysis(muli-variable-relationships)</a>\n",
    ">8.   <a href=#ques>Questions & Insights</a>\n",
    ">9.   <a href=#con>Conculsion</a>"
   ]
  },
  {
   "cell_type": "markdown",
   "id": "56fa0e26",
   "metadata": {},
   "source": [
    "###   <a name='intro'>Domain Background:</a>\n",
    "\n",
    "Yangon is the capital of the Region and the largest city of Myanmar (also known as Burma). Yangon served as the capital of Myanmar until 2006, when the military government relocated the administrative functions to the purpose-built capital city of Naypyidaw in north central Myanmar\n",
    "Yangon government wanted to develop this city by increasing employment opportunities in it, and decided to review the data of employees in San Francisco in order to know the most important jobs spread, salaries and benefits offered to each employee\n",
    "\n",
    "###   <a name='intro'>Data Description:</a>\n",
    "\n",
    "The original source for this data is here , and we have taken from kaggel (SF Salaries | Kaggle).\n",
    "This data set is name as Salaries contain 13 column and 148654 rows.\n",
    "\n",
    "\n",
    " ###  <a name='intro'>featuers:</a>\n",
    "\n",
    "id: A unique identifier for each employee.\n",
    "\n",
    "EmployeeName: Name of employee.\n",
    "\n",
    "JobTitle: Names of Job.\n",
    "\n",
    "BasePay: Base salary without any additions.\n",
    "\n",
    "OvertimePay: Amount of overtime pay.\n",
    "\n",
    "OtherPay: Amount of other pay.\n",
    "\n",
    "Benefits: Amount of benefits.\n",
    "\n",
    "TotalPay: Amount of base pay plus overtime pay without benefits.\n",
    "\n",
    "TotalPayBenefits: Amount of base pay plus overtime pay plus benefits.\n",
    "\n",
    "Year: year for every jobs.\n",
    "\n",
    "Notes: comment for job.\n",
    "\n",
    "Agency: city of job.\n",
    "\n",
    "Status: type of job (PT, FT).\n",
    "\n",
    "\n",
    "\n",
    "\n",
    "###   <a name='intro'>Tools:</a>\n",
    "\n",
    "•\tNumpy and Pandas for data manipulation\n",
    "\n",
    "•\tMatplotlib and Seaborn for plotting\n",
    "\n",
    "•\tTableau for interactive visualizations\n"
   ]
  },
  {
   "cell_type": "markdown",
   "id": "e1638c48",
   "metadata": {},
   "source": [
    " ###   <a name='imports'>Libraries Imports:</a>"
   ]
  },
  {
   "cell_type": "code",
   "execution_count": 1,
   "id": "abaedec1",
   "metadata": {},
   "outputs": [
    {
     "name": "stdout",
     "output_type": "stream",
     "text": [
      "Importing.....[Done]\n"
     ]
    }
   ],
   "source": [
    "# Data Analysis Libs\n",
    "print (\"Importing.....\",end=\"\",flush=True)\n",
    "import pandas as pd\n",
    "import numpy as np\n",
    "import matplotlib.pyplot as plt\n",
    "import seaborn as sns \n",
    "%matplotlib inline \n",
    "\n",
    "# suppress warnings\n",
    "import warnings\n",
    "warnings.filterwarnings('ignore')\n",
    "print(\"[Done]\")\n"
   ]
  },
  {
   "cell_type": "markdown",
   "id": "f1254ec2",
   "metadata": {},
   "source": [
    " ###  <a name='load'>Load Data:</a>"
   ]
  },
  {
   "cell_type": "code",
   "execution_count": 3,
   "id": "ae1a9099",
   "metadata": {},
   "outputs": [
    {
     "data": {
      "text/plain": [
       "<bound method NDFrame.head of             Id       EmployeeName  \\\n",
       "0            1     NATHANIEL FORD   \n",
       "1            2       GARY JIMENEZ   \n",
       "2            3     ALBERT PARDINI   \n",
       "3            4  CHRISTOPHER CHONG   \n",
       "4            5    PATRICK GARDNER   \n",
       "...        ...                ...   \n",
       "148649  148650      Roy I Tillery   \n",
       "148650  148651       Not provided   \n",
       "148651  148652       Not provided   \n",
       "148652  148653       Not provided   \n",
       "148653  148654          Joe Lopez   \n",
       "\n",
       "                                              JobTitle       BasePay  \\\n",
       "0       GENERAL MANAGER-METROPOLITAN TRANSIT AUTHORITY     167411.18   \n",
       "1                      CAPTAIN III (POLICE DEPARTMENT)     155966.02   \n",
       "2                      CAPTAIN III (POLICE DEPARTMENT)     212739.13   \n",
       "3                 WIRE ROPE CABLE MAINTENANCE MECHANIC       77916.0   \n",
       "4         DEPUTY CHIEF OF DEPARTMENT,(FIRE DEPARTMENT)      134401.6   \n",
       "...                                                ...           ...   \n",
       "148649                                       Custodian             0   \n",
       "148650                                    Not provided  Not Provided   \n",
       "148651                                    Not provided  Not Provided   \n",
       "148652                                    Not provided  Not Provided   \n",
       "148653                      Counselor, Log Cabin Ranch             0   \n",
       "\n",
       "         OvertimePay      OtherPay      Benefits   TotalPay  TotalPayBenefits  \\\n",
       "0                0.0     400184.25           NaN  567595.43         567595.43   \n",
       "1          245131.88     137811.38           NaN  538909.28         538909.28   \n",
       "2          106088.18       16452.6           NaN  335279.91         335279.91   \n",
       "3           56120.71      198306.9           NaN  332343.61         332343.61   \n",
       "4             9737.0     182234.59           NaN  326373.19         326373.19   \n",
       "...              ...           ...           ...        ...               ...   \n",
       "148649             0             0             0       0.00              0.00   \n",
       "148650  Not Provided  Not Provided  Not Provided       0.00              0.00   \n",
       "148651  Not Provided  Not Provided  Not Provided       0.00              0.00   \n",
       "148652  Not Provided  Not Provided  Not Provided       0.00              0.00   \n",
       "148653             0       -618.13             0    -618.13           -618.13   \n",
       "\n",
       "        Year  Notes         Agency Status  \n",
       "0       2011    NaN  San Francisco    NaN  \n",
       "1       2011    NaN  San Francisco    NaN  \n",
       "2       2011    NaN  San Francisco    NaN  \n",
       "3       2011    NaN  San Francisco    NaN  \n",
       "4       2011    NaN  San Francisco    NaN  \n",
       "...      ...    ...            ...    ...  \n",
       "148649  2014    NaN  San Francisco     PT  \n",
       "148650  2014    NaN  San Francisco    NaN  \n",
       "148651  2014    NaN  San Francisco    NaN  \n",
       "148652  2014    NaN  San Francisco    NaN  \n",
       "148653  2014    NaN  San Francisco     PT  \n",
       "\n",
       "[148654 rows x 13 columns]>"
      ]
     },
     "execution_count": 3,
     "metadata": {},
     "output_type": "execute_result"
    }
   ],
   "source": [
    "df= pd.read_csv(\"Salaries.csv\")\n",
    "df.head"
   ]
  },
  {
   "cell_type": "code",
   "execution_count": 4,
   "id": "dc477452",
   "metadata": {},
   "outputs": [
    {
     "name": "stdout",
     "output_type": "stream",
     "text": [
      "<class 'pandas.core.frame.DataFrame'>\n",
      "RangeIndex: 148654 entries, 0 to 148653\n",
      "Data columns (total 13 columns):\n",
      " #   Column            Non-Null Count   Dtype  \n",
      "---  ------            --------------   -----  \n",
      " 0   Id                148654 non-null  int64  \n",
      " 1   EmployeeName      148654 non-null  object \n",
      " 2   JobTitle          148654 non-null  object \n",
      " 3   BasePay           148049 non-null  object \n",
      " 4   OvertimePay       148654 non-null  object \n",
      " 5   OtherPay          148654 non-null  object \n",
      " 6   Benefits          112495 non-null  object \n",
      " 7   TotalPay          148654 non-null  float64\n",
      " 8   TotalPayBenefits  148654 non-null  float64\n",
      " 9   Year              148654 non-null  int64  \n",
      " 10  Notes             0 non-null       float64\n",
      " 11  Agency            148654 non-null  object \n",
      " 12  Status            38119 non-null   object \n",
      "dtypes: float64(3), int64(2), object(8)\n",
      "memory usage: 14.7+ MB\n"
     ]
    }
   ],
   "source": [
    "df.info()"
   ]
  },
  {
   "cell_type": "code",
   "execution_count": null,
   "id": "aa7f283d",
   "metadata": {},
   "outputs": [],
   "source": []
  }
 ],
 "metadata": {
  "kernelspec": {
   "display_name": "Python 3",
   "language": "python",
   "name": "python3"
  },
  "language_info": {
   "codemirror_mode": {
    "name": "ipython",
    "version": 3
   },
   "file_extension": ".py",
   "mimetype": "text/x-python",
   "name": "python",
   "nbconvert_exporter": "python",
   "pygments_lexer": "ipython3",
   "version": "3.8.8"
  }
 },
 "nbformat": 4,
 "nbformat_minor": 5
}
